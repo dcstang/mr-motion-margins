{
 "cells": [
  {
   "cell_type": "markdown",
   "metadata": {},
   "source": [
    "# Test Notebook\n",
    "\n",
    "This is to test scrap code  \n",
    "To see whether it works and not dirty other notebooks"
   ]
  },
  {
   "cell_type": "code",
   "execution_count": 1,
   "metadata": {},
   "outputs": [],
   "source": [
    "import pandas as pd"
   ]
  },
  {
   "cell_type": "code",
   "execution_count": 9,
   "metadata": {},
   "outputs": [],
   "source": [
    "df = pd.read_csv('Dec20_data/Interfraction/Interfraction 3D 0.8/Z_CER01_base=Wk2 MR3D_vs_Wk3 MR3D_SUPINF.csv')"
   ]
  },
  {
   "cell_type": "code",
   "execution_count": 10,
   "metadata": {},
   "outputs": [
    {
     "data": {
      "text/html": [
       "<div>\n",
       "<style scoped>\n",
       "    .dataframe tbody tr th:only-of-type {\n",
       "        vertical-align: middle;\n",
       "    }\n",
       "\n",
       "    .dataframe tbody tr th {\n",
       "        vertical-align: top;\n",
       "    }\n",
       "\n",
       "    .dataframe thead th {\n",
       "        text-align: right;\n",
       "    }\n",
       "</style>\n",
       "<table border=\"1\" class=\"dataframe\">\n",
       "  <thead>\n",
       "    <tr style=\"text-align: right;\">\n",
       "      <th></th>\n",
       "      <th>roi</th>\n",
       "      <th>exam</th>\n",
       "      <th>S.z</th>\n",
       "      <th>I.z</th>\n",
       "    </tr>\n",
       "  </thead>\n",
       "  <tbody>\n",
       "    <tr>\n",
       "      <th>0</th>\n",
       "      <td>Bladder</td>\n",
       "      <td>Wk2 MR3D</td>\n",
       "      <td>0.00</td>\n",
       "      <td>0.00</td>\n",
       "    </tr>\n",
       "    <tr>\n",
       "      <th>1</th>\n",
       "      <td>Bladder</td>\n",
       "      <td>Wk3 MR3D</td>\n",
       "      <td>-3.60</td>\n",
       "      <td>-0.40</td>\n",
       "    </tr>\n",
       "    <tr>\n",
       "      <th>2</th>\n",
       "      <td>Rectum</td>\n",
       "      <td>Wk2 MR3D</td>\n",
       "      <td>0.00</td>\n",
       "      <td>0.00</td>\n",
       "    </tr>\n",
       "    <tr>\n",
       "      <th>3</th>\n",
       "      <td>Rectum</td>\n",
       "      <td>Wk3 MR3D</td>\n",
       "      <td>-2.24</td>\n",
       "      <td>0.24</td>\n",
       "    </tr>\n",
       "    <tr>\n",
       "      <th>4</th>\n",
       "      <td>GTV_T</td>\n",
       "      <td>Wk2 MR3D</td>\n",
       "      <td>0.00</td>\n",
       "      <td>0.00</td>\n",
       "    </tr>\n",
       "    <tr>\n",
       "      <th>5</th>\n",
       "      <td>GTV_T</td>\n",
       "      <td>Wk3 MR3D</td>\n",
       "      <td>-1.60</td>\n",
       "      <td>0.16</td>\n",
       "    </tr>\n",
       "    <tr>\n",
       "      <th>6</th>\n",
       "      <td>CTV_Clin</td>\n",
       "      <td>Wk2 MR3D</td>\n",
       "      <td>0.00</td>\n",
       "      <td>0.00</td>\n",
       "    </tr>\n",
       "    <tr>\n",
       "      <th>7</th>\n",
       "      <td>CTV_Clin</td>\n",
       "      <td>Wk3 MR3D</td>\n",
       "      <td>-2.16</td>\n",
       "      <td>0.40</td>\n",
       "    </tr>\n",
       "    <tr>\n",
       "      <th>8</th>\n",
       "      <td>CTV_SmallVol</td>\n",
       "      <td>Wk2 MR3D</td>\n",
       "      <td>0.00</td>\n",
       "      <td>0.00</td>\n",
       "    </tr>\n",
       "    <tr>\n",
       "      <th>9</th>\n",
       "      <td>CTV_SmallVol</td>\n",
       "      <td>Wk3 MR3D</td>\n",
       "      <td>-1.60</td>\n",
       "      <td>0.40</td>\n",
       "    </tr>\n",
       "  </tbody>\n",
       "</table>\n",
       "</div>"
      ],
      "text/plain": [
       "            roi      exam   S.z   I.z\n",
       "0       Bladder  Wk2 MR3D  0.00  0.00\n",
       "1       Bladder  Wk3 MR3D -3.60 -0.40\n",
       "2        Rectum  Wk2 MR3D  0.00  0.00\n",
       "3        Rectum  Wk3 MR3D -2.24  0.24\n",
       "4         GTV_T  Wk2 MR3D  0.00  0.00\n",
       "5         GTV_T  Wk3 MR3D -1.60  0.16\n",
       "6      CTV_Clin  Wk2 MR3D  0.00  0.00\n",
       "7      CTV_Clin  Wk3 MR3D -2.16  0.40\n",
       "8  CTV_SmallVol  Wk2 MR3D  0.00  0.00\n",
       "9  CTV_SmallVol  Wk3 MR3D -1.60  0.40"
      ]
     },
     "execution_count": 10,
     "metadata": {},
     "output_type": "execute_result"
    }
   ],
   "source": [
    "df"
   ]
  },
  {
   "cell_type": "code",
   "execution_count": 11,
   "metadata": {},
   "outputs": [
    {
     "ename": "NameError",
     "evalue": "name 'df_base' is not defined",
     "output_type": "error",
     "traceback": [
      "\u001b[0;31m---------------------------------------------------------------------------\u001b[0m",
      "\u001b[0;31mNameError\u001b[0m                                 Traceback (most recent call last)",
      "\u001b[0;32m<ipython-input-11-5c2474ebda61>\u001b[0m in \u001b[0;36m<module>\u001b[0;34m\u001b[0m\n\u001b[0;32m----> 1\u001b[0;31m \u001b[0mdf_base\u001b[0m \u001b[0;34m=\u001b[0m \u001b[0mdf_base\u001b[0m\u001b[0;34m[\u001b[0m\u001b[0mdf_base\u001b[0m\u001b[0;34m[\u001b[0m\u001b[0;34m'S.z'\u001b[0m\u001b[0;34m]\u001b[0m\u001b[0;34m.\u001b[0m\u001b[0meq\u001b[0m\u001b[0;34m(\u001b[0m\u001b[0;36m0\u001b[0m\u001b[0;34m)\u001b[0m\u001b[0;34m]\u001b[0m\u001b[0;34m\u001b[0m\u001b[0;34m\u001b[0m\u001b[0m\n\u001b[0m",
      "\u001b[0;31mNameError\u001b[0m: name 'df_base' is not defined"
     ]
    }
   ],
   "source": [
    "df_base = df_base[df_base['S.z'].eq(0)] "
   ]
  },
  {
   "cell_type": "code",
   "execution_count": 64,
   "metadata": {},
   "outputs": [],
   "source": [
    "comparison_scan = df[(df != 0).all(1)]"
   ]
  },
  {
   "cell_type": "code",
   "execution_count": 65,
   "metadata": {},
   "outputs": [
    {
     "data": {
      "text/html": [
       "<div>\n",
       "<style scoped>\n",
       "    .dataframe tbody tr th:only-of-type {\n",
       "        vertical-align: middle;\n",
       "    }\n",
       "\n",
       "    .dataframe tbody tr th {\n",
       "        vertical-align: top;\n",
       "    }\n",
       "\n",
       "    .dataframe thead th {\n",
       "        text-align: right;\n",
       "    }\n",
       "</style>\n",
       "<table border=\"1\" class=\"dataframe\">\n",
       "  <thead>\n",
       "    <tr style=\"text-align: right;\">\n",
       "      <th></th>\n",
       "      <th>roi</th>\n",
       "      <th>exam</th>\n",
       "      <th>S.z</th>\n",
       "      <th>I.z</th>\n",
       "    </tr>\n",
       "  </thead>\n",
       "  <tbody>\n",
       "    <tr>\n",
       "      <th>1</th>\n",
       "      <td>Bladder</td>\n",
       "      <td>Wk3 MR3D</td>\n",
       "      <td>-3.60</td>\n",
       "      <td>-0.40</td>\n",
       "    </tr>\n",
       "    <tr>\n",
       "      <th>3</th>\n",
       "      <td>Rectum</td>\n",
       "      <td>Wk3 MR3D</td>\n",
       "      <td>-2.24</td>\n",
       "      <td>0.24</td>\n",
       "    </tr>\n",
       "    <tr>\n",
       "      <th>5</th>\n",
       "      <td>GTV_T</td>\n",
       "      <td>Wk3 MR3D</td>\n",
       "      <td>-1.60</td>\n",
       "      <td>0.16</td>\n",
       "    </tr>\n",
       "    <tr>\n",
       "      <th>7</th>\n",
       "      <td>CTV_Clin</td>\n",
       "      <td>Wk3 MR3D</td>\n",
       "      <td>-2.16</td>\n",
       "      <td>0.40</td>\n",
       "    </tr>\n",
       "    <tr>\n",
       "      <th>9</th>\n",
       "      <td>CTV_SmallVol</td>\n",
       "      <td>Wk3 MR3D</td>\n",
       "      <td>-1.60</td>\n",
       "      <td>0.40</td>\n",
       "    </tr>\n",
       "  </tbody>\n",
       "</table>\n",
       "</div>"
      ],
      "text/plain": [
       "            roi      exam   S.z   I.z\n",
       "1       Bladder  Wk3 MR3D -3.60 -0.40\n",
       "3        Rectum  Wk3 MR3D -2.24  0.24\n",
       "5         GTV_T  Wk3 MR3D -1.60  0.16\n",
       "7      CTV_Clin  Wk3 MR3D -2.16  0.40\n",
       "9  CTV_SmallVol  Wk3 MR3D -1.60  0.40"
      ]
     },
     "execution_count": 65,
     "metadata": {},
     "output_type": "execute_result"
    }
   ],
   "source": [
    "comparison_scan"
   ]
  },
  {
   "cell_type": "code",
   "execution_count": 67,
   "metadata": {},
   "outputs": [],
   "source": [
    "df_idx = comparison_scan.index[comparison_scan['roi'] == \"Bladder\"].tolist()"
   ]
  },
  {
   "cell_type": "code",
   "execution_count": 20,
   "metadata": {},
   "outputs": [],
   "source": [
    "roi = \"Bladder\""
   ]
  },
  {
   "cell_type": "code",
   "execution_count": 56,
   "metadata": {},
   "outputs": [],
   "source": [
    "df_base = df[df['roi'].str.match(roi)]"
   ]
  },
  {
   "cell_type": "code",
   "execution_count": 57,
   "metadata": {},
   "outputs": [
    {
     "data": {
      "text/html": [
       "<div>\n",
       "<style scoped>\n",
       "    .dataframe tbody tr th:only-of-type {\n",
       "        vertical-align: middle;\n",
       "    }\n",
       "\n",
       "    .dataframe tbody tr th {\n",
       "        vertical-align: top;\n",
       "    }\n",
       "\n",
       "    .dataframe thead th {\n",
       "        text-align: right;\n",
       "    }\n",
       "</style>\n",
       "<table border=\"1\" class=\"dataframe\">\n",
       "  <thead>\n",
       "    <tr style=\"text-align: right;\">\n",
       "      <th></th>\n",
       "      <th>roi</th>\n",
       "      <th>exam</th>\n",
       "      <th>S.z</th>\n",
       "      <th>I.z</th>\n",
       "    </tr>\n",
       "  </thead>\n",
       "  <tbody>\n",
       "    <tr>\n",
       "      <th>0</th>\n",
       "      <td>Bladder</td>\n",
       "      <td>Wk2 MR3D</td>\n",
       "      <td>0.0</td>\n",
       "      <td>0.0</td>\n",
       "    </tr>\n",
       "    <tr>\n",
       "      <th>1</th>\n",
       "      <td>Bladder</td>\n",
       "      <td>Wk3 MR3D</td>\n",
       "      <td>-3.6</td>\n",
       "      <td>-0.4</td>\n",
       "    </tr>\n",
       "  </tbody>\n",
       "</table>\n",
       "</div>"
      ],
      "text/plain": [
       "       roi      exam  S.z  I.z\n",
       "0  Bladder  Wk2 MR3D  0.0  0.0\n",
       "1  Bladder  Wk3 MR3D -3.6 -0.4"
      ]
     },
     "execution_count": 57,
     "metadata": {},
     "output_type": "execute_result"
    }
   ],
   "source": [
    "df_base"
   ]
  },
  {
   "cell_type": "code",
   "execution_count": 60,
   "metadata": {},
   "outputs": [],
   "source": [
    "df_base = df_base[df_base['R.x'].eq(0)] if ('R.x' in df_base) else df_base[df_base['S.z'].eq(0)]"
   ]
  },
  {
   "cell_type": "code",
   "execution_count": 61,
   "metadata": {},
   "outputs": [
    {
     "data": {
      "text/html": [
       "<div>\n",
       "<style scoped>\n",
       "    .dataframe tbody tr th:only-of-type {\n",
       "        vertical-align: middle;\n",
       "    }\n",
       "\n",
       "    .dataframe tbody tr th {\n",
       "        vertical-align: top;\n",
       "    }\n",
       "\n",
       "    .dataframe thead th {\n",
       "        text-align: right;\n",
       "    }\n",
       "</style>\n",
       "<table border=\"1\" class=\"dataframe\">\n",
       "  <thead>\n",
       "    <tr style=\"text-align: right;\">\n",
       "      <th></th>\n",
       "      <th>roi</th>\n",
       "      <th>exam</th>\n",
       "      <th>S.z</th>\n",
       "      <th>I.z</th>\n",
       "    </tr>\n",
       "  </thead>\n",
       "  <tbody>\n",
       "    <tr>\n",
       "      <th>0</th>\n",
       "      <td>Bladder</td>\n",
       "      <td>Wk2 MR3D</td>\n",
       "      <td>0.0</td>\n",
       "      <td>0.0</td>\n",
       "    </tr>\n",
       "  </tbody>\n",
       "</table>\n",
       "</div>"
      ],
      "text/plain": [
       "       roi      exam  S.z  I.z\n",
       "0  Bladder  Wk2 MR3D  0.0  0.0"
      ]
     },
     "execution_count": 61,
     "metadata": {},
     "output_type": "execute_result"
    }
   ],
   "source": [
    "df_base"
   ]
  },
  {
   "cell_type": "code",
   "execution_count": 63,
   "metadata": {},
   "outputs": [
    {
     "data": {
      "text/plain": [
       "0.0"
      ]
     },
     "execution_count": 63,
     "metadata": {},
     "output_type": "execute_result"
    }
   ],
   "source": [
    "df_base['I.z'].mean()"
   ]
  },
  {
   "cell_type": "code",
   "execution_count": 68,
   "metadata": {},
   "outputs": [],
   "source": [
    "comparison_wk_roi_df = comparison_scan.loc[df_idx]"
   ]
  },
  {
   "cell_type": "code",
   "execution_count": 69,
   "metadata": {},
   "outputs": [
    {
     "data": {
      "text/html": [
       "<div>\n",
       "<style scoped>\n",
       "    .dataframe tbody tr th:only-of-type {\n",
       "        vertical-align: middle;\n",
       "    }\n",
       "\n",
       "    .dataframe tbody tr th {\n",
       "        vertical-align: top;\n",
       "    }\n",
       "\n",
       "    .dataframe thead th {\n",
       "        text-align: right;\n",
       "    }\n",
       "</style>\n",
       "<table border=\"1\" class=\"dataframe\">\n",
       "  <thead>\n",
       "    <tr style=\"text-align: right;\">\n",
       "      <th></th>\n",
       "      <th>roi</th>\n",
       "      <th>exam</th>\n",
       "      <th>S.z</th>\n",
       "      <th>I.z</th>\n",
       "    </tr>\n",
       "  </thead>\n",
       "  <tbody>\n",
       "    <tr>\n",
       "      <th>1</th>\n",
       "      <td>Bladder</td>\n",
       "      <td>Wk3 MR3D</td>\n",
       "      <td>-3.6</td>\n",
       "      <td>-0.4</td>\n",
       "    </tr>\n",
       "  </tbody>\n",
       "</table>\n",
       "</div>"
      ],
      "text/plain": [
       "       roi      exam  S.z  I.z\n",
       "1  Bladder  Wk3 MR3D -3.6 -0.4"
      ]
     },
     "execution_count": 69,
     "metadata": {},
     "output_type": "execute_result"
    }
   ],
   "source": [
    "comparison_wk_roi_df"
   ]
  },
  {
   "cell_type": "code",
   "execution_count": 70,
   "metadata": {},
   "outputs": [
    {
     "data": {
      "text/plain": [
       "-0.39999998532799996"
      ]
     },
     "execution_count": 70,
     "metadata": {},
     "output_type": "execute_result"
    }
   ],
   "source": [
    "comparison_wk_roi_df['I.z'].mean()"
   ]
  },
  {
   "cell_type": "code",
   "execution_count": 24,
   "metadata": {},
   "outputs": [],
   "source": [
    "test_df = pd.read_csv('Dec20_data/Intrafraction 3D vs DIXON HR IP 2.0/Z_CER06_base=Wk3 MR3D DIXON HR IP_vs_Wk3 MR3D.csv')"
   ]
  },
  {
   "cell_type": "code",
   "execution_count": 25,
   "metadata": {},
   "outputs": [
    {
     "data": {
      "text/html": [
       "<div>\n",
       "<style scoped>\n",
       "    .dataframe tbody tr th:only-of-type {\n",
       "        vertical-align: middle;\n",
       "    }\n",
       "\n",
       "    .dataframe tbody tr th {\n",
       "        vertical-align: top;\n",
       "    }\n",
       "\n",
       "    .dataframe thead th {\n",
       "        text-align: right;\n",
       "    }\n",
       "</style>\n",
       "<table border=\"1\" class=\"dataframe\">\n",
       "  <thead>\n",
       "    <tr style=\"text-align: right;\">\n",
       "      <th></th>\n",
       "      <th>roi</th>\n",
       "      <th>exam</th>\n",
       "      <th>z-RefZ</th>\n",
       "      <th>R.x</th>\n",
       "      <th>L.x</th>\n",
       "      <th>P.y</th>\n",
       "      <th>A.y</th>\n",
       "    </tr>\n",
       "  </thead>\n",
       "  <tbody>\n",
       "    <tr>\n",
       "      <th>0</th>\n",
       "      <td>Bladder</td>\n",
       "      <td>Wk3 MR3D DIXON HR IP</td>\n",
       "      <td>-10.20</td>\n",
       "      <td>0.000000</td>\n",
       "      <td>0.000000</td>\n",
       "      <td>0.000000</td>\n",
       "      <td>0.000000</td>\n",
       "    </tr>\n",
       "    <tr>\n",
       "      <th>1</th>\n",
       "      <td>Bladder</td>\n",
       "      <td>Wk3 MR3D DIXON HR IP</td>\n",
       "      <td>-10.00</td>\n",
       "      <td>0.000000</td>\n",
       "      <td>0.000000</td>\n",
       "      <td>0.000000</td>\n",
       "      <td>0.000000</td>\n",
       "    </tr>\n",
       "    <tr>\n",
       "      <th>2</th>\n",
       "      <td>Bladder</td>\n",
       "      <td>Wk3 MR3D DIXON HR IP</td>\n",
       "      <td>-9.80</td>\n",
       "      <td>0.000000</td>\n",
       "      <td>0.000000</td>\n",
       "      <td>0.000000</td>\n",
       "      <td>0.000000</td>\n",
       "    </tr>\n",
       "    <tr>\n",
       "      <th>3</th>\n",
       "      <td>Bladder</td>\n",
       "      <td>Wk3 MR3D DIXON HR IP</td>\n",
       "      <td>-9.60</td>\n",
       "      <td>0.000000</td>\n",
       "      <td>0.000000</td>\n",
       "      <td>0.000000</td>\n",
       "      <td>0.000000</td>\n",
       "    </tr>\n",
       "    <tr>\n",
       "      <th>4</th>\n",
       "      <td>Bladder</td>\n",
       "      <td>Wk3 MR3D DIXON HR IP</td>\n",
       "      <td>-9.40</td>\n",
       "      <td>0.000000</td>\n",
       "      <td>0.000000</td>\n",
       "      <td>0.000000</td>\n",
       "      <td>0.000000</td>\n",
       "    </tr>\n",
       "    <tr>\n",
       "      <th>...</th>\n",
       "      <td>...</td>\n",
       "      <td>...</td>\n",
       "      <td>...</td>\n",
       "      <td>...</td>\n",
       "      <td>...</td>\n",
       "      <td>...</td>\n",
       "      <td>...</td>\n",
       "    </tr>\n",
       "    <tr>\n",
       "      <th>307</th>\n",
       "      <td>CTV_SmallVol</td>\n",
       "      <td>Wk3 MR3D</td>\n",
       "      <td>-4.32</td>\n",
       "      <td>0.046432</td>\n",
       "      <td>0.652494</td>\n",
       "      <td>0.658462</td>\n",
       "      <td>0.164389</td>\n",
       "    </tr>\n",
       "    <tr>\n",
       "      <th>308</th>\n",
       "      <td>CTV_SmallVol</td>\n",
       "      <td>Wk3 MR3D</td>\n",
       "      <td>-4.12</td>\n",
       "      <td>-0.067274</td>\n",
       "      <td>1.244787</td>\n",
       "      <td>0.768098</td>\n",
       "      <td>0.111530</td>\n",
       "    </tr>\n",
       "    <tr>\n",
       "      <th>309</th>\n",
       "      <td>CTV_SmallVol</td>\n",
       "      <td>Wk3 MR3D</td>\n",
       "      <td>-3.92</td>\n",
       "      <td>0.037486</td>\n",
       "      <td>0.899890</td>\n",
       "      <td>1.011065</td>\n",
       "      <td>0.034223</td>\n",
       "    </tr>\n",
       "    <tr>\n",
       "      <th>310</th>\n",
       "      <td>CTV_SmallVol</td>\n",
       "      <td>Wk3 MR3D</td>\n",
       "      <td>-3.72</td>\n",
       "      <td>-0.140496</td>\n",
       "      <td>1.000819</td>\n",
       "      <td>1.173657</td>\n",
       "      <td>0.019926</td>\n",
       "    </tr>\n",
       "    <tr>\n",
       "      <th>311</th>\n",
       "      <td>CTV_SmallVol</td>\n",
       "      <td>Wk3 MR3D</td>\n",
       "      <td>-3.52</td>\n",
       "      <td>0.055530</td>\n",
       "      <td>0.864255</td>\n",
       "      <td>1.483699</td>\n",
       "      <td>0.756437</td>\n",
       "    </tr>\n",
       "  </tbody>\n",
       "</table>\n",
       "<p>312 rows × 7 columns</p>\n",
       "</div>"
      ],
      "text/plain": [
       "              roi                  exam  z-RefZ       R.x       L.x       P.y  \\\n",
       "0         Bladder  Wk3 MR3D DIXON HR IP  -10.20  0.000000  0.000000  0.000000   \n",
       "1         Bladder  Wk3 MR3D DIXON HR IP  -10.00  0.000000  0.000000  0.000000   \n",
       "2         Bladder  Wk3 MR3D DIXON HR IP   -9.80  0.000000  0.000000  0.000000   \n",
       "3         Bladder  Wk3 MR3D DIXON HR IP   -9.60  0.000000  0.000000  0.000000   \n",
       "4         Bladder  Wk3 MR3D DIXON HR IP   -9.40  0.000000  0.000000  0.000000   \n",
       "..            ...                   ...     ...       ...       ...       ...   \n",
       "307  CTV_SmallVol              Wk3 MR3D   -4.32  0.046432  0.652494  0.658462   \n",
       "308  CTV_SmallVol              Wk3 MR3D   -4.12 -0.067274  1.244787  0.768098   \n",
       "309  CTV_SmallVol              Wk3 MR3D   -3.92  0.037486  0.899890  1.011065   \n",
       "310  CTV_SmallVol              Wk3 MR3D   -3.72 -0.140496  1.000819  1.173657   \n",
       "311  CTV_SmallVol              Wk3 MR3D   -3.52  0.055530  0.864255  1.483699   \n",
       "\n",
       "          A.y  \n",
       "0    0.000000  \n",
       "1    0.000000  \n",
       "2    0.000000  \n",
       "3    0.000000  \n",
       "4    0.000000  \n",
       "..        ...  \n",
       "307  0.164389  \n",
       "308  0.111530  \n",
       "309  0.034223  \n",
       "310  0.019926  \n",
       "311  0.756437  \n",
       "\n",
       "[312 rows x 7 columns]"
      ]
     },
     "execution_count": 25,
     "metadata": {},
     "output_type": "execute_result"
    }
   ],
   "source": [
    "test_df"
   ]
  },
  {
   "cell_type": "code",
   "execution_count": 26,
   "metadata": {},
   "outputs": [
    {
     "name": "stdout",
     "output_type": "stream",
     "text": [
      "['Wk3 MR3D DIXON HR IP' 'Wk3 MR3D']\n",
      "Wk3\n",
      "Wk3\n",
      "Wk3\n"
     ]
    }
   ],
   "source": [
    "# get higher week for comparison week\n",
    "\n",
    "# pull out exams from df\n",
    "print(test_df.exam.unique())\n",
    "\n",
    "# use regex to get Wk#\n",
    "import re\n",
    "\n",
    "\n",
    "print(re.search(r'(Wk.)', test_df.exam.unique()[0]).group(0))\n",
    "print(re.search(r'(Wk.)', test_df.exam.unique()[-1]).group(0))\n",
    "print(max(re.search(r'(Wk.)', test_df.exam.unique()[0]).group(0), re.search(r'(Wk.)', test_df.exam.unique()[-1]).group(0)))"
   ]
  },
  {
   "cell_type": "code",
   "execution_count": 27,
   "metadata": {},
   "outputs": [],
   "source": [
    "# case where week 4 same , ie intrafraction\n",
    "maxval = max(re.search(r'(Wk.)', test_df.exam.unique()[0]).group(0), re.search(r'(Wk.)', test_df.exam.unique()[-1]).group(0))\n",
    "\n",
    "if maxval == re.search(r'(Wk.)', test_df.exam.unique()[0]).group(0):\n",
    "    maxval = test_df.exam.unique()[-1]"
   ]
  },
  {
   "cell_type": "code",
   "execution_count": 28,
   "metadata": {},
   "outputs": [
    {
     "data": {
      "text/plain": [
       "'Wk3 MR3D'"
      ]
     },
     "execution_count": 28,
     "metadata": {},
     "output_type": "execute_result"
    }
   ],
   "source": [
    "maxval"
   ]
  },
  {
   "cell_type": "code",
   "execution_count": 33,
   "metadata": {},
   "outputs": [],
   "source": [
    "set_df = test_df.loc[test_df['exam'] == maxval]"
   ]
  },
  {
   "cell_type": "code",
   "execution_count": 34,
   "metadata": {},
   "outputs": [
    {
     "data": {
      "text/html": [
       "<div>\n",
       "<style scoped>\n",
       "    .dataframe tbody tr th:only-of-type {\n",
       "        vertical-align: middle;\n",
       "    }\n",
       "\n",
       "    .dataframe tbody tr th {\n",
       "        vertical-align: top;\n",
       "    }\n",
       "\n",
       "    .dataframe thead th {\n",
       "        text-align: right;\n",
       "    }\n",
       "</style>\n",
       "<table border=\"1\" class=\"dataframe\">\n",
       "  <thead>\n",
       "    <tr style=\"text-align: right;\">\n",
       "      <th></th>\n",
       "      <th>roi</th>\n",
       "      <th>exam</th>\n",
       "      <th>z-RefZ</th>\n",
       "      <th>R.x</th>\n",
       "      <th>L.x</th>\n",
       "      <th>P.y</th>\n",
       "      <th>A.y</th>\n",
       "    </tr>\n",
       "  </thead>\n",
       "  <tbody>\n",
       "    <tr>\n",
       "      <th>16</th>\n",
       "      <td>Bladder</td>\n",
       "      <td>Wk3 MR3D</td>\n",
       "      <td>-10.08</td>\n",
       "      <td>-0.273663</td>\n",
       "      <td>-0.356162</td>\n",
       "      <td>-0.631017</td>\n",
       "      <td>-0.240412</td>\n",
       "    </tr>\n",
       "    <tr>\n",
       "      <th>17</th>\n",
       "      <td>Bladder</td>\n",
       "      <td>Wk3 MR3D</td>\n",
       "      <td>-9.88</td>\n",
       "      <td>0.060339</td>\n",
       "      <td>-0.137732</td>\n",
       "      <td>-0.442560</td>\n",
       "      <td>-0.292564</td>\n",
       "    </tr>\n",
       "    <tr>\n",
       "      <th>18</th>\n",
       "      <td>Bladder</td>\n",
       "      <td>Wk3 MR3D</td>\n",
       "      <td>-9.68</td>\n",
       "      <td>1.295917</td>\n",
       "      <td>-0.013937</td>\n",
       "      <td>-0.352510</td>\n",
       "      <td>-0.249715</td>\n",
       "    </tr>\n",
       "    <tr>\n",
       "      <th>19</th>\n",
       "      <td>Bladder</td>\n",
       "      <td>Wk3 MR3D</td>\n",
       "      <td>-9.48</td>\n",
       "      <td>1.110618</td>\n",
       "      <td>-0.156603</td>\n",
       "      <td>-0.321679</td>\n",
       "      <td>-0.912450</td>\n",
       "    </tr>\n",
       "    <tr>\n",
       "      <th>20</th>\n",
       "      <td>Bladder</td>\n",
       "      <td>Wk3 MR3D</td>\n",
       "      <td>-9.28</td>\n",
       "      <td>1.447464</td>\n",
       "      <td>-0.618436</td>\n",
       "      <td>-0.706797</td>\n",
       "      <td>-0.880979</td>\n",
       "    </tr>\n",
       "    <tr>\n",
       "      <th>...</th>\n",
       "      <td>...</td>\n",
       "      <td>...</td>\n",
       "      <td>...</td>\n",
       "      <td>...</td>\n",
       "      <td>...</td>\n",
       "      <td>...</td>\n",
       "      <td>...</td>\n",
       "    </tr>\n",
       "    <tr>\n",
       "      <th>307</th>\n",
       "      <td>CTV_SmallVol</td>\n",
       "      <td>Wk3 MR3D</td>\n",
       "      <td>-4.32</td>\n",
       "      <td>0.046432</td>\n",
       "      <td>0.652494</td>\n",
       "      <td>0.658462</td>\n",
       "      <td>0.164389</td>\n",
       "    </tr>\n",
       "    <tr>\n",
       "      <th>308</th>\n",
       "      <td>CTV_SmallVol</td>\n",
       "      <td>Wk3 MR3D</td>\n",
       "      <td>-4.12</td>\n",
       "      <td>-0.067274</td>\n",
       "      <td>1.244787</td>\n",
       "      <td>0.768098</td>\n",
       "      <td>0.111530</td>\n",
       "    </tr>\n",
       "    <tr>\n",
       "      <th>309</th>\n",
       "      <td>CTV_SmallVol</td>\n",
       "      <td>Wk3 MR3D</td>\n",
       "      <td>-3.92</td>\n",
       "      <td>0.037486</td>\n",
       "      <td>0.899890</td>\n",
       "      <td>1.011065</td>\n",
       "      <td>0.034223</td>\n",
       "    </tr>\n",
       "    <tr>\n",
       "      <th>310</th>\n",
       "      <td>CTV_SmallVol</td>\n",
       "      <td>Wk3 MR3D</td>\n",
       "      <td>-3.72</td>\n",
       "      <td>-0.140496</td>\n",
       "      <td>1.000819</td>\n",
       "      <td>1.173657</td>\n",
       "      <td>0.019926</td>\n",
       "    </tr>\n",
       "    <tr>\n",
       "      <th>311</th>\n",
       "      <td>CTV_SmallVol</td>\n",
       "      <td>Wk3 MR3D</td>\n",
       "      <td>-3.52</td>\n",
       "      <td>0.055530</td>\n",
       "      <td>0.864255</td>\n",
       "      <td>1.483699</td>\n",
       "      <td>0.756437</td>\n",
       "    </tr>\n",
       "  </tbody>\n",
       "</table>\n",
       "<p>156 rows × 7 columns</p>\n",
       "</div>"
      ],
      "text/plain": [
       "              roi      exam  z-RefZ       R.x       L.x       P.y       A.y\n",
       "16        Bladder  Wk3 MR3D  -10.08 -0.273663 -0.356162 -0.631017 -0.240412\n",
       "17        Bladder  Wk3 MR3D   -9.88  0.060339 -0.137732 -0.442560 -0.292564\n",
       "18        Bladder  Wk3 MR3D   -9.68  1.295917 -0.013937 -0.352510 -0.249715\n",
       "19        Bladder  Wk3 MR3D   -9.48  1.110618 -0.156603 -0.321679 -0.912450\n",
       "20        Bladder  Wk3 MR3D   -9.28  1.447464 -0.618436 -0.706797 -0.880979\n",
       "..            ...       ...     ...       ...       ...       ...       ...\n",
       "307  CTV_SmallVol  Wk3 MR3D   -4.32  0.046432  0.652494  0.658462  0.164389\n",
       "308  CTV_SmallVol  Wk3 MR3D   -4.12 -0.067274  1.244787  0.768098  0.111530\n",
       "309  CTV_SmallVol  Wk3 MR3D   -3.92  0.037486  0.899890  1.011065  0.034223\n",
       "310  CTV_SmallVol  Wk3 MR3D   -3.72 -0.140496  1.000819  1.173657  0.019926\n",
       "311  CTV_SmallVol  Wk3 MR3D   -3.52  0.055530  0.864255  1.483699  0.756437\n",
       "\n",
       "[156 rows x 7 columns]"
      ]
     },
     "execution_count": 34,
     "metadata": {},
     "output_type": "execute_result"
    }
   ],
   "source": [
    "set_df"
   ]
  },
  {
   "cell_type": "code",
   "execution_count": 7,
   "metadata": {},
   "outputs": [
    {
     "data": {
      "text/html": [
       "<div>\n",
       "<style scoped>\n",
       "    .dataframe tbody tr th:only-of-type {\n",
       "        vertical-align: middle;\n",
       "    }\n",
       "\n",
       "    .dataframe tbody tr th {\n",
       "        vertical-align: top;\n",
       "    }\n",
       "\n",
       "    .dataframe thead th {\n",
       "        text-align: right;\n",
       "    }\n",
       "</style>\n",
       "<table border=\"1\" class=\"dataframe\">\n",
       "  <thead>\n",
       "    <tr style=\"text-align: right;\">\n",
       "      <th></th>\n",
       "      <th>roi</th>\n",
       "      <th>exam</th>\n",
       "      <th>S.z</th>\n",
       "      <th>I.z</th>\n",
       "    </tr>\n",
       "  </thead>\n",
       "  <tbody>\n",
       "    <tr>\n",
       "      <th>5</th>\n",
       "      <td>GTV_T</td>\n",
       "      <td>Wk3 MR3D DIXON HR IP</td>\n",
       "      <td>-1.065814e-14</td>\n",
       "      <td>0.0</td>\n",
       "    </tr>\n",
       "  </tbody>\n",
       "</table>\n",
       "</div>"
      ],
      "text/plain": [
       "     roi                  exam           S.z  I.z\n",
       "5  GTV_T  Wk3 MR3D DIXON HR IP -1.065814e-14  0.0"
      ]
     },
     "execution_count": 7,
     "metadata": {},
     "output_type": "execute_result"
    }
   ],
   "source": [
    "set_df[set_df['roi'].str.contains(\"GTV_T\")]"
   ]
  },
  {
   "cell_type": "code",
   "execution_count": 80,
   "metadata": {},
   "outputs": [],
   "source": [
    "comparison_scan = test_df[(\"Wk3\" in test_df['exam'])\n",
    "\n",
    "# get indices for region of interest\n",
    "roi = \"GTV_T\"\n",
    "df_idx = comparison_scan.index[comparison_scan['roi'] == roi].tolist()\n",
    "    "
   ]
  },
  {
   "cell_type": "code",
   "execution_count": 81,
   "metadata": {},
   "outputs": [],
   "source": [
    "roi_df = comparison_scan.loc[df_idx]"
   ]
  },
  {
   "cell_type": "code",
   "execution_count": 82,
   "metadata": {},
   "outputs": [
    {
     "data": {
      "text/html": [
       "<div>\n",
       "<style scoped>\n",
       "    .dataframe tbody tr th:only-of-type {\n",
       "        vertical-align: middle;\n",
       "    }\n",
       "\n",
       "    .dataframe tbody tr th {\n",
       "        vertical-align: top;\n",
       "    }\n",
       "\n",
       "    .dataframe thead th {\n",
       "        text-align: right;\n",
       "    }\n",
       "</style>\n",
       "<table border=\"1\" class=\"dataframe\">\n",
       "  <thead>\n",
       "    <tr style=\"text-align: right;\">\n",
       "      <th></th>\n",
       "      <th>roi</th>\n",
       "      <th>exam</th>\n",
       "      <th>S.z</th>\n",
       "      <th>I.z</th>\n",
       "    </tr>\n",
       "  </thead>\n",
       "  <tbody>\n",
       "  </tbody>\n",
       "</table>\n",
       "</div>"
      ],
      "text/plain": [
       "Empty DataFrame\n",
       "Columns: [roi, exam, S.z, I.z]\n",
       "Index: []"
      ]
     },
     "execution_count": 82,
     "metadata": {},
     "output_type": "execute_result"
    }
   ],
   "source": [
    "roi_df.head()"
   ]
  },
  {
   "cell_type": "code",
   "execution_count": 38,
   "metadata": {},
   "outputs": [],
   "source": [
    "mean = roi_df.mean(axis = 0)[3]"
   ]
  },
  {
   "cell_type": "code",
   "execution_count": 40,
   "metadata": {},
   "outputs": [
    {
     "data": {
      "text/plain": [
       "1.8410196076500929"
      ]
     },
     "execution_count": 40,
     "metadata": {},
     "output_type": "execute_result"
    }
   ],
   "source": [
    "roi_df.mean(axis = 0)[3]"
   ]
  },
  {
   "cell_type": "code",
   "execution_count": 41,
   "metadata": {},
   "outputs": [
    {
     "data": {
      "text/plain": [
       "-0.17714483291117455"
      ]
     },
     "execution_count": 41,
     "metadata": {},
     "output_type": "execute_result"
    }
   ],
   "source": [
    "roi_df.mean(axis = 0)[1]"
   ]
  },
  {
   "cell_type": "code",
   "execution_count": 50,
   "metadata": {},
   "outputs": [
    {
     "data": {
      "text/plain": [
       "0.2650570434635796"
      ]
     },
     "execution_count": 50,
     "metadata": {},
     "output_type": "execute_result"
    }
   ],
   "source": [
    "roi_df['R.x'].std()"
   ]
  },
  {
   "cell_type": "code",
   "execution_count": 49,
   "metadata": {},
   "outputs": [
    {
     "data": {
      "text/plain": [
       "z-RefZ   -7.100000\n",
       "R.x      -0.177145\n",
       "L.x       0.356669\n",
       "P.y       1.841020\n",
       "A.y      -0.261552\n",
       "dtype: float64"
      ]
     },
     "execution_count": 49,
     "metadata": {},
     "output_type": "execute_result"
    }
   ],
   "source": [
    "roi_df.mean(axis = 0)"
   ]
  },
  {
   "cell_type": "code",
   "execution_count": null,
   "metadata": {},
   "outputs": [],
   "source": []
  }
 ],
 "metadata": {
  "kernelspec": {
   "display_name": "Python 3",
   "language": "python",
   "name": "python3"
  },
  "language_info": {
   "codemirror_mode": {
    "name": "ipython",
    "version": 3
   },
   "file_extension": ".py",
   "mimetype": "text/x-python",
   "name": "python",
   "nbconvert_exporter": "python",
   "pygments_lexer": "ipython3",
   "version": "3.8.5"
  }
 },
 "nbformat": 4,
 "nbformat_minor": 4
}

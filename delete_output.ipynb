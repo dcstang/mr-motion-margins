{
 "cells": [
  {
   "cell_type": "markdown",
   "metadata": {},
   "source": [
    "# Delete Output Folder contents\n",
    "\n",
    "Quick script to delete output folder contents so that can re-run the max_min scripts"
   ]
  },
  {
   "cell_type": "code",
   "execution_count": 1,
   "metadata": {},
   "outputs": [],
   "source": [
    "import os\n",
    "import shutil"
   ]
  },
  {
   "cell_type": "code",
   "execution_count": 2,
   "metadata": {},
   "outputs": [],
   "source": [
    "folder_name = [\n",
    "    'Dec20_data/Interfraction/Interfraction 3D 0.8', \n",
    "    'Dec20_data/Interfraction/Interfraction DIXON 2.0', \n",
    "    'Dec20_data/Intrafraction 3D vs DIXON HR IP 2.0'\n",
    "    ]\n",
    "\n",
    "# gets output folders \n",
    "output_dir_list = []\n",
    "for i in range(len(folder_name)):\n",
    "    output_dir_list.append(\n",
    "        os.path.join(os.getcwd(), folder_name[i], \"output\")\n",
    "    )"
   ]
  },
  {
   "cell_type": "code",
   "execution_count": 3,
   "metadata": {},
   "outputs": [
    {
     "name": "stdout",
     "output_type": "stream",
     "text": [
      "Clearing out /mnt/3602F83B02F80223/MR Linac/Dec20_data/Interfraction/Interfraction 3D 0.8/output\n",
      "Clearing out /mnt/3602F83B02F80223/MR Linac/Dec20_data/Interfraction/Interfraction DIXON 2.0/output\n",
      "Clearing out /mnt/3602F83B02F80223/MR Linac/Dec20_data/Intrafraction 3D vs DIXON HR IP 2.0/output\n"
     ]
    }
   ],
   "source": [
    "for n in range(3):\n",
    "    # remove entire folder\n",
    "    print('Clearing out {}'.format(output_dir_list[n]))\n",
    "    shutil.rmtree(output_dir_list[n])\n",
    "        \n",
    "    # remake blank folder    \n",
    "    os.makedirs(output_dir_list[n], exist_ok=True)"
   ]
  }
 ],
 "metadata": {
  "kernelspec": {
   "display_name": "Python 3",
   "language": "python",
   "name": "python3"
  },
  "language_info": {
   "codemirror_mode": {
    "name": "ipython",
    "version": 3
   },
   "file_extension": ".py",
   "mimetype": "text/x-python",
   "name": "python",
   "nbconvert_exporter": "python",
   "pygments_lexer": "ipython3",
   "version": "3.8.5"
  }
 },
 "nbformat": 4,
 "nbformat_minor": 4
}
